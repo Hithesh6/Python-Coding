{
 "cells": [
  {
   "cell_type": "markdown",
   "id": "310c9802",
   "metadata": {},
   "source": [
    "## 1) Write a Python program to loop through all the elements in a list\n",
    "Ex:\n",
    "Input: [1,2,3,4,5,6]\n",
    "Output:\n",
    "1\n",
    "2\n",
    "3\n",
    "4\n",
    "5\n",
    "6"
   ]
  },
  {
   "cell_type": "code",
   "execution_count": 4,
   "id": "8b6a5b59",
   "metadata": {},
   "outputs": [
    {
     "name": "stdout",
     "output_type": "stream",
     "text": [
      "Enter your input:- 1234679\n",
      "1 2 3 4 6 7 9 "
     ]
    }
   ],
   "source": [
    "a=list((input('Enter your input:- ')))\n",
    "for a1 in a:\n",
    "    print(a1,end=' ')"
   ]
  },
  {
   "cell_type": "markdown",
   "id": "c7e04bd3",
   "metadata": {},
   "source": [
    "## 2) Write a Python program to remove all the odd index value from a list and only even index elements should remain\n",
    "Ex:\n",
    "Input: [1,2,3,4,5,6,7,”a”]\n",
    "Output: [1,3,5,7]"
   ]
  },
  {
   "cell_type": "code",
   "execution_count": 7,
   "id": "28e80836",
   "metadata": {},
   "outputs": [
    {
     "name": "stdout",
     "output_type": "stream",
     "text": [
      "Enter your input:- 123456789\n",
      "1 3 5 7 9 "
     ]
    }
   ],
   "source": [
    "b=input('Enter your input:- ')\n",
    "for b1 in range(1,len(b)+1,2):\n",
    "    print(b1,end=' ')"
   ]
  },
  {
   "cell_type": "markdown",
   "id": "7f128e10",
   "metadata": {},
   "source": [
    "## 3) Write a Python program to sum and multiply all the items in a list\n",
    "Ex:\n",
    "Input: [1,2,3,4]\n",
    "Output: sum: -10\n",
    "Product: -24"
   ]
  },
  {
   "cell_type": "code",
   "execution_count": 12,
   "id": "6a947ae0",
   "metadata": {},
   "outputs": [
    {
     "name": "stdout",
     "output_type": "stream",
     "text": [
      "Enter input52\n",
      "sum:- 7\n",
      "product:- 10\n"
     ]
    }
   ],
   "source": [
    "c=input('Enter input')\n",
    "sum=0\n",
    "product=1\n",
    "for c1 in c:\n",
    "    sum=sum+int(c1)\n",
    "    product=product*int(c1)\n",
    "print('sum:-',sum)\n",
    "print('product:-',product)"
   ]
  },
  {
   "cell_type": "markdown",
   "id": "caaa8ffc",
   "metadata": {},
   "source": [
    "## 4) Write a Python program to get the maximum and minimum numbers from a list\n",
    "Ex:\n",
    "Input: [8,4,11,7,90] Output: max: - 90\n",
    "Min: - 4"
   ]
  },
  {
   "cell_type": "code",
   "execution_count": 19,
   "id": "d5fe5fac",
   "metadata": {},
   "outputs": [
    {
     "name": "stdout",
     "output_type": "stream",
     "text": [
      "Enter length of the list:9\n",
      "Enter a number:1\n",
      "Enter a number:55\n",
      "Enter a number:22\n",
      "Enter a number:11\n",
      "Enter a number:66\n",
      "Enter a number:33\n",
      "Enter a number:99\n",
      "Enter a number:88\n",
      "Enter a number:77\n",
      "[1, 55, 22, 11, 66, 33, 99, 88, 77]\n",
      "Minimum: 1\n",
      "Maximum: 99\n"
     ]
    }
   ],
   "source": [
    "d=[]\n",
    "length=int(input(\"Enter length of the list:\"))\n",
    "for i in range(length):\n",
    "    var=int(input(\"Enter a number:\"))\n",
    "    d.append(var)\n",
    "print(d)\n",
    "d.sort()\n",
    "print(\"Minimum:\",d[0])\n",
    "print(\"Maximum:\",d[-1])"
   ]
  },
  {
   "cell_type": "markdown",
   "id": "474a4032",
   "metadata": {},
   "source": []
  }
 ],
 "metadata": {
  "kernelspec": {
   "display_name": "Python 3 (ipykernel)",
   "language": "python",
   "name": "python3"
  },
  "language_info": {
   "codemirror_mode": {
    "name": "ipython",
    "version": 3
   },
   "file_extension": ".py",
   "mimetype": "text/x-python",
   "name": "python",
   "nbconvert_exporter": "python",
   "pygments_lexer": "ipython3",
   "version": "3.11.3"
  }
 },
 "nbformat": 4,
 "nbformat_minor": 5
}
