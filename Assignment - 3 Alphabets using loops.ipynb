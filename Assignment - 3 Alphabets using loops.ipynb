{
 "cells": [
  {
   "cell_type": "code",
   "execution_count": 5,
   "id": "44de3218",
   "metadata": {},
   "outputs": [
    {
     "name": "stdout",
     "output_type": "stream",
     "text": [
      "Enter to print lower case alphabets5\n",
      "bye\n"
     ]
    }
   ],
   "source": [
    "# 1) Create a python program to print lower case alphabets (a-z) with conditional statement\n",
    "\n",
    "a=input('Enter to print lower case alphabets')\n",
    "if(a=='lower'):\n",
    "    print('a b c d e f g h i j k l m n o p q r s t u v w x y z')\n",
    "else:\n",
    "    print('bye')"
   ]
  },
  {
   "cell_type": "code",
   "execution_count": 3,
   "id": "e2e4ebd0",
   "metadata": {},
   "outputs": [
    {
     "name": "stdout",
     "output_type": "stream",
     "text": [
      "Enter 1 to print lower and 2 to print upper 5\n",
      "bye\n"
     ]
    }
   ],
   "source": [
    "# 2) Create a python program to print lower & upper case alphabets with looping concepts (while loop and for loop)\n",
    "\n",
    "# by using while loop\n",
    "\n",
    "b=int(input('Enter 1 to print lower and 2 to print upper '))\n",
    "while(type(b)==int):\n",
    "    if(b==1):\n",
    "        print('a b c d e f g h i j k l m n o p q r s t u v w x y z')\n",
    "    elif(b==2):\n",
    "        print('A B C D E F G H I J K L M N O P Q R S T U V W X Y Z')\n",
    "    else:\n",
    "        print('bye')\n",
    "    break\n"
   ]
  },
  {
   "cell_type": "code",
   "execution_count": 94,
   "id": "861c7b1d",
   "metadata": {},
   "outputs": [
    {
     "name": "stdout",
     "output_type": "stream",
     "text": [
      "Enter 1 to print upper and 2 to print lower 8\n",
      "bye\n"
     ]
    }
   ],
   "source": [
    "# by using for loop\n",
    "\n",
    "c=input('Enter 1 to print upper and 2 to print lower ')\n",
    "for d in c:\n",
    "    if c=='1':\n",
    "        print('A B C D E F G H I J K L M N O P Q R S T U V W X Y Z')\n",
    "    elif c=='2':\n",
    "        print('a b c d e f g h i j k l m n o p q r s t u v w x y z')\n",
    "    else:\n",
    "        print('bye')\n",
    "        "
   ]
  }
 ],
 "metadata": {
  "kernelspec": {
   "display_name": "Python 3 (ipykernel)",
   "language": "python",
   "name": "python3"
  },
  "language_info": {
   "codemirror_mode": {
    "name": "ipython",
    "version": 3
   },
   "file_extension": ".py",
   "mimetype": "text/x-python",
   "name": "python",
   "nbconvert_exporter": "python",
   "pygments_lexer": "ipython3",
   "version": "3.11.3"
  }
 },
 "nbformat": 4,
 "nbformat_minor": 5
}
