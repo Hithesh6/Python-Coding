{
 "cells": [
  {
   "cell_type": "code",
   "execution_count": 1,
   "id": "5b464ef2",
   "metadata": {},
   "outputs": [],
   "source": [
    "import numpy as np"
   ]
  },
  {
   "cell_type": "markdown",
   "id": "346889cf",
   "metadata": {},
   "source": [
    "## 1) Write a program to create a 5 dimensional array with all zeros and ones"
   ]
  },
  {
   "cell_type": "code",
   "execution_count": 41,
   "id": "f3a59b16",
   "metadata": {},
   "outputs": [
    {
     "name": "stdout",
     "output_type": "stream",
     "text": [
      "[[[[[0 0 0]\n",
      "    [0 0 0]\n",
      "    [0 0 0]]]]] \n",
      "\n",
      "[[[[[1 1 1]\n",
      "    [1 1 1]\n",
      "    [1 1 1]]]]]\n"
     ]
    }
   ],
   "source": [
    "zero=np.array([[0,0,0],[0,0,0],[0,0,0]],ndmin=5)\n",
    "ones=np.array([[1,1,1],[1,1,1],[1,1,1]],ndmin=5)\n",
    "print(zero,'\\n')\n",
    "print(ones)"
   ]
  },
  {
   "cell_type": "markdown",
   "id": "644a1d1d",
   "metadata": {},
   "source": [
    "## 2) Write a program to create an array of 10 zeros,10 ones, and 10 fives in row 1 2 and 3 which create a new array of shape (3,10)"
   ]
  },
  {
   "cell_type": "code",
   "execution_count": 33,
   "id": "caca4b1e",
   "metadata": {},
   "outputs": [
    {
     "name": "stdout",
     "output_type": "stream",
     "text": [
      "[[0 0 0 0 0 0 0 0 0 0]\n",
      " [0 0 0 0 0 0 0 0 0 0]\n",
      " [0 0 0 0 0 0 0 0 0 0]] \n",
      "\n",
      "[[1 1 1 1 1 1 1 1 1 1]\n",
      " [1 1 1 1 1 1 1 1 1 1]\n",
      " [1 1 1 1 1 1 1 1 1 1]] \n",
      "\n",
      "[[5 5 5 5 5 5 5 5 5 5]\n",
      " [5 5 5 5 5 5 5 5 5 5]\n",
      " [5 5 5 5 5 5 5 5 5 5]]\n"
     ]
    }
   ],
   "source": [
    "z1=np.zeros((3,10))\n",
    "z2=np.ones((3,10))\n",
    "z3=np.array([[5,5,5,5,5,5,5,5,5,5],[5,5,5,5,5,5,5,5,5,5],[5,5,5,5,5,5,5,5,5,5]])\n",
    "print(z1.astype(int),'\\n')\n",
    "print(z2.astype(int),'\\n')\n",
    "print(z3)"
   ]
  },
  {
   "cell_type": "markdown",
   "id": "bd94baa1",
   "metadata": {},
   "source": [
    "## 3) Write a program to create a 3x4 matrix filled with values from 10 to 21"
   ]
  },
  {
   "cell_type": "code",
   "execution_count": 35,
   "id": "c884cc89",
   "metadata": {},
   "outputs": [
    {
     "data": {
      "text/plain": [
       "array([[10, 11, 12, 13],\n",
       "       [14, 15, 16, 17],\n",
       "       [18, 19, 20, 21]])"
      ]
     },
     "execution_count": 35,
     "metadata": {},
     "output_type": "execute_result"
    }
   ],
   "source": [
    "np.arange(10,22).reshape(3,4)"
   ]
  },
  {
   "cell_type": "markdown",
   "id": "67aa3c23",
   "metadata": {},
   "source": [
    "## 4) Write a  program to create a 10x10 zero matrix with elements on the main diagonal equal to 0,1,2,3,4,5,6,7,8,9, "
   ]
  },
  {
   "cell_type": "code",
   "execution_count": 42,
   "id": "3d96833d",
   "metadata": {},
   "outputs": [
    {
     "data": {
      "text/plain": [
       "array([[0, 0, 0, 0, 0, 0, 0, 0, 0, 0],\n",
       "       [0, 1, 0, 0, 0, 0, 0, 0, 0, 0],\n",
       "       [0, 0, 2, 0, 0, 0, 0, 0, 0, 0],\n",
       "       [0, 0, 0, 3, 0, 0, 0, 0, 0, 0],\n",
       "       [0, 0, 0, 0, 4, 0, 0, 0, 0, 0],\n",
       "       [0, 0, 0, 0, 0, 5, 0, 0, 0, 0],\n",
       "       [0, 0, 0, 0, 0, 0, 6, 0, 0, 0],\n",
       "       [0, 0, 0, 0, 0, 0, 0, 7, 0, 0],\n",
       "       [0, 0, 0, 0, 0, 0, 0, 0, 8, 0],\n",
       "       [0, 0, 0, 0, 0, 0, 0, 0, 0, 9]])"
      ]
     },
     "execution_count": 42,
     "metadata": {},
     "output_type": "execute_result"
    }
   ],
   "source": [
    "np.diag([0,1,2,3,4,5,6,7,8,9])"
   ]
  },
  {
   "cell_type": "markdown",
   "id": "f14506f9",
   "metadata": {},
   "source": [
    "## 5) Write a program to create a 4x4 array. Create an array from below array by swapping first and last, second and third columns.\n",
    "    \n",
    "\n",
    "1\n",
    "2\n",
    "3\n",
    "4\n",
    "5\n",
    "6\n",
    "7\n",
    "8\n",
    "9\n",
    "10\n",
    "11\n",
    "12\n",
    "13\n",
    "14\n",
    "15\n",
    "16\n",
    "\n"
   ]
  },
  {
   "cell_type": "code",
   "execution_count": 72,
   "id": "039c0f27",
   "metadata": {},
   "outputs": [
    {
     "data": {
      "text/plain": [
       "array([[ 4,  3,  2,  1],\n",
       "       [ 8,  7,  6,  5],\n",
       "       [12, 11, 10,  9],\n",
       "       [16, 15, 14, 13]])"
      ]
     },
     "execution_count": 72,
     "metadata": {},
     "output_type": "execute_result"
    }
   ],
   "source": [
    "b=np.array([[1,2,3,4],[5,6,7,8],[9,10,11,12],[13,14,15,16]])\n",
    "b[::,::-1]"
   ]
  },
  {
   "cell_type": "markdown",
   "id": "e78e1892",
   "metadata": {},
   "source": [
    "## 6) Write a program to reverse an array (the first element becomes the last).\n",
    "Given array:\n",
    "[12 13 14 15 16 17 18 19 20 21 22 23 24 25 26 27 ]\n"
   ]
  },
  {
   "cell_type": "code",
   "execution_count": 77,
   "id": "af78e93a",
   "metadata": {},
   "outputs": [
    {
     "data": {
      "text/plain": [
       "array([27, 26, 25, 24, 23, 22, 21, 20, 19, 18, 17, 16, 15, 14, 13, 12])"
      ]
     },
     "execution_count": 77,
     "metadata": {},
     "output_type": "execute_result"
    }
   ],
   "source": [
    "c=np.array([12,13,14,15,16,17,18,19,20,21,22,23,24,25,26,27])\n",
    "np.flip(c,0)"
   ]
  },
  {
   "cell_type": "markdown",
   "id": "2bad96cd",
   "metadata": {},
   "source": [
    "## 7)  Write a program to access all the elements greater than 30 and less than 80 and multiples of 5 from an array of shape 10,10 .Elements range from 1 to 100"
   ]
  },
  {
   "cell_type": "code",
   "execution_count": 97,
   "id": "5fa6009c",
   "metadata": {},
   "outputs": [
    {
     "name": "stdout",
     "output_type": "stream",
     "text": [
      "[[  1   2   3   4   5   6   7   8   9  10]\n",
      " [ 11  12  13  14  15  16  17  18  19  20]\n",
      " [ 21  22  23  24  25  26  27  28  29  30]\n",
      " [ 31  32  33  34  35  36  37  38  39  40]\n",
      " [ 41  42  43  44  45  46  47  48  49  50]\n",
      " [ 51  52  53  54  55  56  57  58  59  60]\n",
      " [ 61  62  63  64  65  66  67  68  69  70]\n",
      " [ 71  72  73  74  75  76  77  78  79  80]\n",
      " [ 81  82  83  84  85  86  87  88  89  90]\n",
      " [ 91  92  93  94  95  96  97  98  99 100]] \n",
      "\n",
      "\n",
      "Elemnts which are >30 and <80 and %5==0 are:- \n",
      " [35, 40, 45, 50, 55, 60, 65, 70, 75]\n"
     ]
    }
   ],
   "source": [
    "d=np.arange(1,101).reshape(10,10)\n",
    "final=[]\n",
    "for i in d:\n",
    "    for k in i:\n",
    "        if k>30 and k<80 and k%5==0:\n",
    "            final.append(k)\n",
    "print(d,'\\n\\n')\n",
    "print('Elemnts which are >30 and <80 and %5==0 are:- \\n',final)\n"
   ]
  },
  {
   "cell_type": "markdown",
   "id": "0089be2d",
   "metadata": {},
   "source": [
    "## 8) Write a program to create a 2D array with 1 on the border and 0 inside."
   ]
  },
  {
   "cell_type": "code",
   "execution_count": 131,
   "id": "911f3fd6",
   "metadata": {},
   "outputs": [
    {
     "data": {
      "text/plain": [
       "array([[1, 1, 1, 1],\n",
       "       [1, 0, 0, 1],\n",
       "       [1, 0, 0, 1],\n",
       "       [1, 1, 1, 1]])"
      ]
     },
     "execution_count": 131,
     "metadata": {},
     "output_type": "execute_result"
    }
   ],
   "source": [
    "h=np.ones((4,4),dtype=int)\n",
    "h[1:3,1:3]=0\n",
    "h"
   ]
  },
  {
   "cell_type": "markdown",
   "id": "84e5b5df",
   "metadata": {},
   "source": [
    "## 9) Write a program to create a checkerboard pattern .Don't use default array function Checkerboard pattern:"
   ]
  },
  {
   "cell_type": "markdown",
   "id": "8f3a973b",
   "metadata": {},
   "source": [
    "## 10) Write a program to find common values between two arrays.\n",
    "Expected Output:\n",
    "array1: [10 20 40 60]\n",
    "array2: [10, 30, 40,50]"
   ]
  },
  {
   "cell_type": "code",
   "execution_count": 138,
   "id": "0e43ac4f",
   "metadata": {},
   "outputs": [
    {
     "name": "stdout",
     "output_type": "stream",
     "text": [
      "common elements between two arrays is\n",
      " [85, 96]\n"
     ]
    }
   ],
   "source": [
    "arr1=np.array([20,45,85,96])\n",
    "arr2=np.array([15,96,85,48])\n",
    "common=[]\n",
    "for i in arr1:\n",
    "    for i1 in arr2:\n",
    "        if i==i1:\n",
    "            common.append(i)\n",
    "print('common elements between two arrays is\\n',common)"
   ]
  },
  {
   "cell_type": "markdown",
   "id": "b5faf969",
   "metadata": {},
   "source": [
    "## 11) Write a program to create an array 2d array and then reshape into 1d array"
   ]
  },
  {
   "cell_type": "code",
   "execution_count": 151,
   "id": "94e3a0ed",
   "metadata": {},
   "outputs": [
    {
     "data": {
      "text/plain": [
       "array([1, 2, 3, 4, 5, 6, 7, 8, 9])"
      ]
     },
     "execution_count": 151,
     "metadata": {},
     "output_type": "execute_result"
    }
   ],
   "source": [
    "o=np.array([[1,2,3],[4,5,6],[7,8,9]])\n",
    "o.flatten()"
   ]
  },
  {
   "cell_type": "markdown",
   "id": "57588af3",
   "metadata": {},
   "source": [
    "## 12) Write a user defined function for creating a 1 or 2d array from scratch without using array functions"
   ]
  },
  {
   "cell_type": "code",
   "execution_count": null,
   "id": "12595f72",
   "metadata": {},
   "outputs": [],
   "source": []
  }
 ],
 "metadata": {
  "kernelspec": {
   "display_name": "Python 3 (ipykernel)",
   "language": "python",
   "name": "python3"
  },
  "language_info": {
   "codemirror_mode": {
    "name": "ipython",
    "version": 3
   },
   "file_extension": ".py",
   "mimetype": "text/x-python",
   "name": "python",
   "nbconvert_exporter": "python",
   "pygments_lexer": "ipython3",
   "version": "3.11.3"
  }
 },
 "nbformat": 4,
 "nbformat_minor": 5
}
