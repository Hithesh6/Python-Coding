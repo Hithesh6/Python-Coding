{
 "cells": [
  {
   "cell_type": "code",
   "execution_count": 6,
   "id": "68c3ae19",
   "metadata": {},
   "outputs": [
    {
     "name": "stdout",
     "output_type": "stream",
     "text": [
      "Enter your first number 1\n",
      "Enter your operator +\n",
      "Enter your second number 6\n",
      "sum of two numbers is 1+6=7\n",
      "Quit calculator enter q n\n",
      "Enter your first number 1\n",
      "Enter your operator +\n",
      "Enter your second number 5\n",
      "sum of two numbers is 1+5=6\n",
      "Quit calculator enter q q\n"
     ]
    }
   ],
   "source": [
    "quit=1\n",
    "\n",
    "while quit==1:\n",
    "\n",
    "    num1=int(input('Enter your first number '))\n",
    "    symbol=input('Enter your operator ')\n",
    "    num2=int(input('Enter your second number '))\n",
    "    \n",
    "    if(symbol=='+'):\n",
    "        print('sum of two numbers is {}+{}={}'.format(num1,num2,num1+num2))\n",
    "        s=input('Quit calculator enter q ')\n",
    "        if(s=='q'):\n",
    "            break\n",
    "        else:\n",
    "            continue\n",
    "    elif(symbol=='-'):\n",
    "        print('Difference of two numbers is {}-{}={}'.format(num1,num2,num1-num2))\n",
    "        s=input('Quit calculator enter q ')\n",
    "        if(s=='q'):\n",
    "            break\n",
    "        else:\n",
    "            continue\n",
    "    elif(symbol=='*'):\n",
    "        print('Product of two numbers is {}*{}={}'.format(num1,num2,num1*num2))\n",
    "        s=input('Quit calculator enter q ')\n",
    "        if(s=='q'):\n",
    "            break\n",
    "        else:\n",
    "            continue\n",
    "    elif(symbol=='/'):\n",
    "        print('Divison of two numbers is {}/{}={}'.format(num1,num2,num1/num2))\n",
    "        s=input('Quit calculator enter q ')\n",
    "        if(s=='q'):\n",
    "            break\n",
    "        else:\n",
    "            continue\n",
    "    elif(symbol=='**'):\n",
    "        print('Power of two numbers is {}**{}={}'.format(num1,num2,num1**num2))\n",
    "        s=input('Quit calculator enter q ')\n",
    "        if(s=='q'):\n",
    "            break\n",
    "        else:\n",
    "            continue"
   ]
  },
  {
   "cell_type": "code",
   "execution_count": null,
   "id": "bf0a4d53",
   "metadata": {},
   "outputs": [],
   "source": []
  },
  {
   "cell_type": "code",
   "execution_count": null,
   "id": "1d57379b",
   "metadata": {},
   "outputs": [],
   "source": []
  }
 ],
 "metadata": {
  "kernelspec": {
   "display_name": "Python 3 (ipykernel)",
   "language": "python",
   "name": "python3"
  },
  "language_info": {
   "codemirror_mode": {
    "name": "ipython",
    "version": 3
   },
   "file_extension": ".py",
   "mimetype": "text/x-python",
   "name": "python",
   "nbconvert_exporter": "python",
   "pygments_lexer": "ipython3",
   "version": "3.11.3"
  }
 },
 "nbformat": 4,
 "nbformat_minor": 5
}
