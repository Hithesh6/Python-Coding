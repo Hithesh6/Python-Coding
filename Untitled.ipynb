{
 "cells": [
  {
   "cell_type": "code",
   "execution_count": 3,
   "id": "b660e5e3",
   "metadata": {},
   "outputs": [
    {
     "name": "stdout",
     "output_type": "stream",
     "text": [
      "Enter your first Number2\n",
      "Enter your second number2\n",
      "Sum of two numbers is 2+2=4\n",
      "Difference of two Numbers is 2-2=0\n",
      "Product of two Numbers is 2*2=4\n",
      "Divison of two Numbers is 2/2=1.0\n",
      "Modulus of two Numbers is 2//2=1\n",
      "Floor Divison of two Numbers is 2%2=0\n",
      "Power of two Numbers is 2**2=4\n"
     ]
    }
   ],
   "source": [
    "# Operators task\n",
    "#Dynamic Calculator\n",
    "\n",
    "n1=int(input('Enter your first Number'))\n",
    "n2=int(input('Enter your second number'))\n",
    "print('Sum of two numbers is {}+{}={}'.format(n1,n2,n1+n2))\n",
    "print('Difference of two Numbers is {}-{}={}'.format(n1,n2,n1-n2))\n",
    "print('Product of two Numbers is {}*{}={}'.format(n1,n2,n1*n2))\n",
    "print('Divison of two Numbers is {}/{}={}'.format(n1,n2,n1/n2))\n",
    "print('Modulus of two Numbers is {}//{}={}'.format(n1,n2,n1//n2))\n",
    "print('Floor Divison of two Numbers is {}%{}={}'.format(n1,n2,n1%n2))\n",
    "print('Power of two Numbers is {}**{}={}'.format(n1,n2,n1**n2))"
   ]
  },
  {
   "cell_type": "code",
   "execution_count": 24,
   "id": "0b468200",
   "metadata": {},
   "outputs": [
    {
     "data": {
      "text/plain": [
       "10"
      ]
     },
     "execution_count": 24,
     "metadata": {},
     "output_type": "execute_result"
    }
   ],
   "source": [
    "# Assignment Operators\n",
    "\n",
    "x=5\n",
    "x=x+5\n",
    "x"
   ]
  },
  {
   "cell_type": "code",
   "execution_count": 33,
   "id": "dc9d0ad8",
   "metadata": {},
   "outputs": [
    {
     "data": {
      "text/plain": [
       "True"
      ]
     },
     "execution_count": 33,
     "metadata": {},
     "output_type": "execute_result"
    }
   ],
   "source": [
    "# logical Operators\n",
    "\n",
    "h=45\n",
    "i=50\n",
    "t=55\n",
    "e=40\n",
    "(h<i) and (i<t)"
   ]
  },
  {
   "cell_type": "code",
   "execution_count": 39,
   "id": "b5b925a7",
   "metadata": {},
   "outputs": [
    {
     "data": {
      "text/plain": [
       "False"
      ]
     },
     "execution_count": 39,
     "metadata": {},
     "output_type": "execute_result"
    }
   ],
   "source": [
    "h=45\n",
    "i=50\n",
    "t=55\n",
    "e=40\n",
    "(h==i) or (i==t)"
   ]
  },
  {
   "cell_type": "code",
   "execution_count": 63,
   "id": "6743d76b",
   "metadata": {},
   "outputs": [],
   "source": [
    "# Identical Operators\n",
    "\n",
    "b=10000\n",
    "c=10000\n"
   ]
  },
  {
   "cell_type": "code",
   "execution_count": 64,
   "id": "add9df3c",
   "metadata": {},
   "outputs": [
    {
     "data": {
      "text/plain": [
       "False"
      ]
     },
     "execution_count": 64,
     "metadata": {},
     "output_type": "execute_result"
    }
   ],
   "source": [
    "b is c"
   ]
  },
  {
   "cell_type": "code",
   "execution_count": 65,
   "id": "52efab10",
   "metadata": {},
   "outputs": [
    {
     "data": {
      "text/plain": [
       "2830279791696"
      ]
     },
     "execution_count": 65,
     "metadata": {},
     "output_type": "execute_result"
    }
   ],
   "source": [
    "id(b)"
   ]
  },
  {
   "cell_type": "code",
   "execution_count": 66,
   "id": "9e75d530",
   "metadata": {},
   "outputs": [
    {
     "data": {
      "text/plain": [
       "2830279793456"
      ]
     },
     "execution_count": 66,
     "metadata": {},
     "output_type": "execute_result"
    }
   ],
   "source": [
    "id(c)"
   ]
  },
  {
   "cell_type": "code",
   "execution_count": null,
   "id": "dded07ca",
   "metadata": {},
   "outputs": [],
   "source": []
  }
 ],
 "metadata": {
  "kernelspec": {
   "display_name": "Python 3 (ipykernel)",
   "language": "python",
   "name": "python3"
  },
  "language_info": {
   "codemirror_mode": {
    "name": "ipython",
    "version": 3
   },
   "file_extension": ".py",
   "mimetype": "text/x-python",
   "name": "python",
   "nbconvert_exporter": "python",
   "pygments_lexer": "ipython3",
   "version": "3.11.3"
  }
 },
 "nbformat": 4,
 "nbformat_minor": 5
}
