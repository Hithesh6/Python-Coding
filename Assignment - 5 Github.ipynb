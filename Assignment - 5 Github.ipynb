{
 "cells": [
  {
   "cell_type": "markdown",
   "id": "f377f7f1",
   "metadata": {},
   "source": [
    "## 1) Given a list of numbers, write a python program that returns a new list which Has all duplicate elements removed. And is sorted in an increasing order"
   ]
  },
  {
   "cell_type": "code",
   "execution_count": 1,
   "id": "2e66d2ee",
   "metadata": {},
   "outputs": [
    {
     "name": "stdout",
     "output_type": "stream",
     "text": [
      "enter range5\n",
      "enter element:1\n",
      "enter element:1\n",
      "enter element:2\n",
      "enter element:4\n",
      "enter element:88\n",
      "[1, 1, 2, 4, 88]\n",
      "[1, 2, 4, 88]\n"
     ]
    }
   ],
   "source": [
    "n=int(input(\"enter range\"))\n",
    "list1=[]\n",
    "for i in range(n):\n",
    "    num=input(\"enter element:\")\n",
    "    if (num.isdigit()):\n",
    "        num=int(num)\n",
    "        list1.append(num)\n",
    "print(list1)\n",
    "l=[]\n",
    "for i in list1:\n",
    "    if i not in l:\n",
    "        l.append(i)\n",
    "print(sorted(l))"
   ]
  },
  {
   "cell_type": "markdown",
   "id": "c666ea6e",
   "metadata": {},
   "source": [
    "## 2) Write a Python program where you will iterate over both keys and values in dictionaries"
   ]
  },
  {
   "cell_type": "code",
   "execution_count": 3,
   "id": "263b8f95",
   "metadata": {},
   "outputs": [
    {
     "name": "stdout",
     "output_type": "stream",
     "text": [
      "enter the total subjects: 2\n",
      "enter name of the subject: mat\n",
      "enter marks: 99\n",
      "enter name of the subject: sci\n",
      "enter marks: 88\n",
      "dict_items([('mat', '99'), ('sci', '88')])\n"
     ]
    }
   ],
   "source": [
    "n=int(input(\"enter the total subjects: \"))\n",
    "d={}\n",
    "for i in range(n):\n",
    "    key=input(\"enter name of the subject: \")\n",
    "    values=input(\"enter marks: \")\n",
    "    d[key]=values\n",
    "print(d.items())"
   ]
  },
  {
   "cell_type": "markdown",
   "id": "77ec445d",
   "metadata": {},
   "source": [
    "## 3) Write a Python program that takes a dictionary of student names and returns a list of student names in alphabetical order"
   ]
  },
  {
   "cell_type": "code",
   "execution_count": 4,
   "id": "28e65e1f",
   "metadata": {},
   "outputs": [
    {
     "name": "stdout",
     "output_type": "stream",
     "text": [
      "enter the total students: 2\n",
      "enter name of the student: somu\n",
      "enter marks: 55\n",
      "enter name of the student: kapil\n",
      "enter marks: 66\n",
      "['kapil', 'somu']\n"
     ]
    }
   ],
   "source": [
    "n=int(input(\"enter the total students: \"))\n",
    "d={}\n",
    "for i in range(n):\n",
    "    key=input(\"enter name of the student: \")\n",
    "    values=input(\"enter marks: \")\n",
    "    d[key]=values\n",
    "print(sorted(list(d.keys())))"
   ]
  },
  {
   "cell_type": "code",
   "execution_count": null,
   "id": "9820de5a",
   "metadata": {},
   "outputs": [],
   "source": []
  }
 ],
 "metadata": {
  "kernelspec": {
   "display_name": "Python 3 (ipykernel)",
   "language": "python",
   "name": "python3"
  },
  "language_info": {
   "codemirror_mode": {
    "name": "ipython",
    "version": 3
   },
   "file_extension": ".py",
   "mimetype": "text/x-python",
   "name": "python",
   "nbconvert_exporter": "python",
   "pygments_lexer": "ipython3",
   "version": "3.11.3"
  }
 },
 "nbformat": 4,
 "nbformat_minor": 5
}
